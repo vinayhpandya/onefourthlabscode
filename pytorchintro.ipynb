{
  "nbformat": 4,
  "nbformat_minor": 0,
  "metadata": {
    "colab": {
      "name": "pytorchintro.ipynb",
      "version": "0.3.2",
      "provenance": [],
      "include_colab_link": true
    },
    "kernelspec": {
      "name": "python3",
      "display_name": "Python 3"
    },
    "accelerator": "GPU"
  },
  "cells": [
    {
      "cell_type": "markdown",
      "metadata": {
        "id": "view-in-github",
        "colab_type": "text"
      },
      "source": [
        "<a href=\"https://colab.research.google.com/github/vinayhpandya/onefourthlabscode/blob/master/pytorchintro.ipynb\" target=\"_parent\"><img src=\"https://colab.research.google.com/assets/colab-badge.svg\" alt=\"Open In Colab\"/></a>"
      ]
    },
    {
      "cell_type": "code",
      "metadata": {
        "id": "G20EEn-FJeQa",
        "colab_type": "code",
        "colab": {}
      },
      "source": [
        "import torch\n",
        "import numpy as np\n",
        "import matplotlib.pyplot as plt"
      ],
      "execution_count": 0,
      "outputs": []
    },
    {
      "cell_type": "code",
      "metadata": {
        "id": "y9FIm8U7J2Vf",
        "colab_type": "code",
        "outputId": "e1b978c7-8d1e-49fc-85e5-14e83e52c485",
        "colab": {
          "base_uri": "https://localhost:8080/",
          "height": 119
        }
      },
      "source": [
        "x=torch.ones(3,2)\n",
        "print(x)\n",
        "Y=torch.zeros(3,2)\n",
        "print(Y)"
      ],
      "execution_count": 0,
      "outputs": [
        {
          "output_type": "stream",
          "text": [
            "tensor([[1., 1.],\n",
            "        [1., 1.],\n",
            "        [1., 1.]])\n",
            "tensor([[0., 0.],\n",
            "        [0., 0.],\n",
            "        [0., 0.]])\n"
          ],
          "name": "stdout"
        }
      ]
    },
    {
      "cell_type": "code",
      "metadata": {
        "id": "7CAvuxItKDP1",
        "colab_type": "code",
        "outputId": "45be6d11-84bf-4925-d623-d66198d9226f",
        "colab": {
          "base_uri": "https://localhost:8080/",
          "height": 119
        }
      },
      "source": [
        "x=torch.empty(3,2)\n",
        "print(x)\n",
        "y=torch.zeros_like(x)\n",
        "print(y)"
      ],
      "execution_count": 0,
      "outputs": [
        {
          "output_type": "stream",
          "text": [
            "tensor([[1.2064e-36, 0.0000e+00],\n",
            "        [3.3631e-44, 0.0000e+00],\n",
            "        [       nan, 0.0000e+00]])\n",
            "tensor([[0., 0.],\n",
            "        [0., 0.],\n",
            "        [0., 0.]])\n"
          ],
          "name": "stdout"
        }
      ]
    },
    {
      "cell_type": "code",
      "metadata": {
        "id": "JmTWbX0QKONt",
        "colab_type": "code",
        "outputId": "a94477f6-5c59-49d6-b341-13642419435c",
        "colab": {
          "base_uri": "https://localhost:8080/",
          "height": 68
        }
      },
      "source": [
        "X=torch.tensor([[1,2,3],[3,4,5],[5,6,7]])\n",
        "print(X)"
      ],
      "execution_count": 0,
      "outputs": [
        {
          "output_type": "stream",
          "text": [
            "tensor([[1, 2, 3],\n",
            "        [3, 4, 5],\n",
            "        [5, 6, 7]])\n"
          ],
          "name": "stdout"
        }
      ]
    },
    {
      "cell_type": "code",
      "metadata": {
        "id": "fRYxQwDkKZxT",
        "colab_type": "code",
        "outputId": "96b32984-ae3c-483b-8287-6420cfc8c377",
        "colab": {
          "base_uri": "https://localhost:8080/",
          "height": 34
        }
      },
      "source": [
        "x=torch.linspace(1,6,steps=5)\n",
        "print(x)"
      ],
      "execution_count": 0,
      "outputs": [
        {
          "output_type": "stream",
          "text": [
            "tensor([1.0000, 2.2500, 3.5000, 4.7500, 6.0000])\n"
          ],
          "name": "stdout"
        }
      ]
    },
    {
      "cell_type": "code",
      "metadata": {
        "id": "grXlmmashnEW",
        "colab_type": "code",
        "outputId": "7c5be60e-012a-40f2-a0eb-a29bcbe7f7bb",
        "colab": {
          "base_uri": "https://localhost:8080/",
          "height": 68
        }
      },
      "source": [
        "X=torch.tensor([[1,2,3],[3,4,5],[5,6,7]])\n",
        "print(X)"
      ],
      "execution_count": 0,
      "outputs": [
        {
          "output_type": "stream",
          "text": [
            "tensor([[1, 2, 3],\n",
            "        [3, 4, 5],\n",
            "        [5, 6, 7]])\n"
          ],
          "name": "stdout"
        }
      ]
    },
    {
      "cell_type": "code",
      "metadata": {
        "id": "ByJHtFnEhyzZ",
        "colab_type": "code",
        "outputId": "28ff3b62-fbd9-43ca-b041-57a769ab9168",
        "colab": {
          "base_uri": "https://localhost:8080/",
          "height": 51
        }
      },
      "source": [
        "print(X[:,2])\n",
        "print(X.size())"
      ],
      "execution_count": 0,
      "outputs": [
        {
          "output_type": "stream",
          "text": [
            "tensor([3, 5, 7])\n",
            "torch.Size([3, 3])\n"
          ],
          "name": "stdout"
        }
      ]
    },
    {
      "cell_type": "code",
      "metadata": {
        "id": "bRZfQqjlh2ow",
        "colab_type": "code",
        "outputId": "3c69c1a3-cbf7-4798-dd13-9b8070eeea6d",
        "colab": {
          "base_uri": "https://localhost:8080/",
          "height": 51
        }
      },
      "source": [
        "y=X[1,2]\n",
        "print(y)\n",
        "print(y.item())"
      ],
      "execution_count": 0,
      "outputs": [
        {
          "output_type": "stream",
          "text": [
            "tensor(5)\n",
            "5\n"
          ],
          "name": "stdout"
        }
      ]
    },
    {
      "cell_type": "markdown",
      "metadata": {
        "id": "8ueDJpYHiRGe",
        "colab_type": "text"
      },
      "source": [
        "#Reshaping"
      ]
    },
    {
      "cell_type": "code",
      "metadata": {
        "id": "Ty3hXRS6iDP-",
        "colab_type": "code",
        "outputId": "3d9274f2-6bed-4344-a241-45c083cb62a2",
        "colab": {
          "base_uri": "https://localhost:8080/",
          "height": 85
        }
      },
      "source": [
        "print(X)\n",
        "Y=X.view(1,9)\n",
        "print(Y)"
      ],
      "execution_count": 0,
      "outputs": [
        {
          "output_type": "stream",
          "text": [
            "tensor([[1, 2, 3],\n",
            "        [3, 4, 5],\n",
            "        [5, 6, 7]])\n",
            "tensor([[1, 2, 3, 3, 4, 5, 5, 6, 7]])\n"
          ],
          "name": "stdout"
        }
      ]
    },
    {
      "cell_type": "code",
      "metadata": {
        "id": "vO2IXgwIiaWr",
        "colab_type": "code",
        "outputId": "b78a2128-af11-44ba-cf96-18bd11be3763",
        "colab": {
          "base_uri": "https://localhost:8080/",
          "height": 170
        }
      },
      "source": [
        "print(X.view(9,-1))"
      ],
      "execution_count": 0,
      "outputs": [
        {
          "output_type": "stream",
          "text": [
            "tensor([[1],\n",
            "        [2],\n",
            "        [3],\n",
            "        [3],\n",
            "        [4],\n",
            "        [5],\n",
            "        [5],\n",
            "        [6],\n",
            "        [7]])\n"
          ],
          "name": "stdout"
        }
      ]
    },
    {
      "cell_type": "markdown",
      "metadata": {
        "id": "dZCt-_ZBi5jv",
        "colab_type": "text"
      },
      "source": [
        "#Tensor operations"
      ]
    },
    {
      "cell_type": "code",
      "metadata": {
        "id": "KQ8Tb1r6ighk",
        "colab_type": "code",
        "outputId": "2b201aa1-4ea7-4e4b-f2dd-af6da4cb1066",
        "colab": {
          "base_uri": "https://localhost:8080/",
          "height": 85
        }
      },
      "source": [
        "x=torch.ones(2,3)\n",
        "y=torch.ones(2,3)\n",
        "print(x)\n",
        "print(y)"
      ],
      "execution_count": 0,
      "outputs": [
        {
          "output_type": "stream",
          "text": [
            "tensor([[1., 1., 1.],\n",
            "        [1., 1., 1.]])\n",
            "tensor([[1., 1., 1.],\n",
            "        [1., 1., 1.]])\n"
          ],
          "name": "stdout"
        }
      ]
    },
    {
      "cell_type": "code",
      "metadata": {
        "id": "lEOYNlCijGO_",
        "colab_type": "code",
        "outputId": "fa2f7a44-fc74-41af-8111-bdefe7f20f7d",
        "colab": {
          "base_uri": "https://localhost:8080/",
          "height": 85
        }
      },
      "source": [
        "z=y.add(x)\n",
        "print(y)\n",
        "print(z)"
      ],
      "execution_count": 0,
      "outputs": [
        {
          "output_type": "stream",
          "text": [
            "tensor([[1., 1., 1.],\n",
            "        [1., 1., 1.]])\n",
            "tensor([[2., 2., 2.],\n",
            "        [2., 2., 2.]])\n"
          ],
          "name": "stdout"
        }
      ]
    },
    {
      "cell_type": "code",
      "metadata": {
        "id": "pstCvlMWjN0I",
        "colab_type": "code",
        "outputId": "4b044c6b-28a5-4b9b-8f44-5994919e284c",
        "colab": {
          "base_uri": "https://localhost:8080/",
          "height": 85
        }
      },
      "source": [
        "z=y.add_(x)\n",
        "print(y)\n",
        "print(z)"
      ],
      "execution_count": 0,
      "outputs": [
        {
          "output_type": "stream",
          "text": [
            "tensor([[2., 2., 2.],\n",
            "        [2., 2., 2.]])\n",
            "tensor([[2., 2., 2.],\n",
            "        [2., 2., 2.]])\n"
          ],
          "name": "stdout"
        }
      ]
    },
    {
      "cell_type": "markdown",
      "metadata": {
        "id": "O-DdorNxkAHB",
        "colab_type": "text"
      },
      "source": [
        "#numpy vs pytorch"
      ]
    },
    {
      "cell_type": "code",
      "metadata": {
        "id": "LrMS69v7jUDv",
        "colab_type": "code",
        "outputId": "4bbedbdc-46b5-4572-fbb8-d2e47f551abd",
        "colab": {
          "base_uri": "https://localhost:8080/",
          "height": 68
        }
      },
      "source": [
        "x_np=x.numpy()\n",
        "print(type(x),type(x_np))\n",
        "print(x_np)"
      ],
      "execution_count": 0,
      "outputs": [
        {
          "output_type": "stream",
          "text": [
            "<class 'torch.Tensor'> <class 'numpy.ndarray'>\n",
            "[[1. 1. 1.]\n",
            " [1. 1. 1.]]\n"
          ],
          "name": "stdout"
        }
      ]
    },
    {
      "cell_type": "code",
      "metadata": {
        "id": "7LqGMY8IkK6w",
        "colab_type": "code",
        "outputId": "7f4958b8-ba69-419a-c1ab-c6c7c4525f92",
        "colab": {
          "base_uri": "https://localhost:8080/",
          "height": 187
        }
      },
      "source": [
        "a=np.random.randn(5,5)\n",
        "print(a)\n",
        "a_pt=torch.from_numpy(a)\n",
        "print(a_pt)"
      ],
      "execution_count": 0,
      "outputs": [
        {
          "output_type": "stream",
          "text": [
            "[[-0.58633292 -0.98867042  0.12526125 -0.24885206 -2.68506886]\n",
            " [ 0.05412726  2.42986765  0.40722592 -0.37792744 -0.40010229]\n",
            " [-1.03878148  0.79798696  0.23485916  1.22410651 -1.81760562]\n",
            " [ 1.08471827  0.25331406 -1.99391898  0.35061918 -0.25878707]\n",
            " [-1.0920432  -0.36904803  0.83158674  1.19402945  0.04159334]]\n",
            "tensor([[-0.5863, -0.9887,  0.1253, -0.2489, -2.6851],\n",
            "        [ 0.0541,  2.4299,  0.4072, -0.3779, -0.4001],\n",
            "        [-1.0388,  0.7980,  0.2349,  1.2241, -1.8176],\n",
            "        [ 1.0847,  0.2533, -1.9939,  0.3506, -0.2588],\n",
            "        [-1.0920, -0.3690,  0.8316,  1.1940,  0.0416]], dtype=torch.float64)\n"
          ],
          "name": "stdout"
        }
      ]
    },
    {
      "cell_type": "code",
      "metadata": {
        "id": "hG0BweBqk5z0",
        "colab_type": "code",
        "outputId": "864e64b4-714d-446a-818f-5d749457314e",
        "colab": {
          "base_uri": "https://localhost:8080/",
          "height": 187
        }
      },
      "source": [
        "np.add(a,1,out=a)\n",
        "print(a)\n",
        "print(a_pt)"
      ],
      "execution_count": 0,
      "outputs": [
        {
          "output_type": "stream",
          "text": [
            "[[ 0.41366708  0.01132958  1.12526125  0.75114794 -1.68506886]\n",
            " [ 1.05412726  3.42986765  1.40722592  0.62207256  0.59989771]\n",
            " [-0.03878148  1.79798696  1.23485916  2.22410651 -0.81760562]\n",
            " [ 2.08471827  1.25331406 -0.99391898  1.35061918  0.74121293]\n",
            " [-0.0920432   0.63095197  1.83158674  2.19402945  1.04159334]]\n",
            "tensor([[ 0.4137,  0.0113,  1.1253,  0.7511, -1.6851],\n",
            "        [ 1.0541,  3.4299,  1.4072,  0.6221,  0.5999],\n",
            "        [-0.0388,  1.7980,  1.2349,  2.2241, -0.8176],\n",
            "        [ 2.0847,  1.2533, -0.9939,  1.3506,  0.7412],\n",
            "        [-0.0920,  0.6310,  1.8316,  2.1940,  1.0416]], dtype=torch.float64)\n"
          ],
          "name": "stdout"
        }
      ]
    },
    {
      "cell_type": "markdown",
      "metadata": {
        "id": "8GfdNcBNljJX",
        "colab_type": "text"
      },
      "source": [
        "#Performace"
      ]
    },
    {
      "cell_type": "code",
      "metadata": {
        "id": "-VbScclpk_AY",
        "colab_type": "code",
        "outputId": "f101251c-7667-4b31-e6bb-11793c3c0350",
        "colab": {
          "base_uri": "https://localhost:8080/",
          "height": 51
        }
      },
      "source": [
        "%%time\n",
        "for k in range(100):\n",
        "  a=np.random.randn(100,100)\n",
        "  b=np.random.randn(100,100)\n",
        "  c=a+b"
      ],
      "execution_count": 0,
      "outputs": [
        {
          "output_type": "stream",
          "text": [
            "CPU times: user 82.3 ms, sys: 633 µs, total: 82.9 ms\n",
            "Wall time: 84.5 ms\n"
          ],
          "name": "stdout"
        }
      ]
    },
    {
      "cell_type": "code",
      "metadata": {
        "id": "E6kETVSMl1f1",
        "colab_type": "code",
        "outputId": "80c07e0b-d0b6-4588-a5a8-38626b1224cd",
        "colab": {
          "base_uri": "https://localhost:8080/",
          "height": 51
        }
      },
      "source": [
        "%%time\n",
        "for k in range(100):\n",
        "  a=torch.randn([100,100])\n",
        "  b=torch.randn([100,100])\n",
        "  c=a+b"
      ],
      "execution_count": 0,
      "outputs": [
        {
          "output_type": "stream",
          "text": [
            "CPU times: user 20.9 ms, sys: 1.21 ms, total: 22.1 ms\n",
            "Wall time: 24.5 ms\n"
          ],
          "name": "stdout"
        }
      ]
    },
    {
      "cell_type": "code",
      "metadata": {
        "id": "ManG7_96mAqp",
        "colab_type": "code",
        "outputId": "712eb4b4-3eed-4be1-e138-525f6e1cc8ec",
        "colab": {
          "base_uri": "https://localhost:8080/",
          "height": 51
        }
      },
      "source": [
        "%%time\n",
        "for k in range(100):\n",
        "  a=np.random.randn(100,100)\n",
        "  b=np.random.randn(100,100)\n",
        "  c=np.matmul(a,b)"
      ],
      "execution_count": 0,
      "outputs": [
        {
          "output_type": "stream",
          "text": [
            "CPU times: user 140 ms, sys: 82.5 ms, total: 223 ms\n",
            "Wall time: 119 ms\n"
          ],
          "name": "stdout"
        }
      ]
    },
    {
      "cell_type": "code",
      "metadata": {
        "id": "GNOusD7ImZnj",
        "colab_type": "code",
        "outputId": "03dafd9b-7beb-45f7-ea1a-549b01471d00",
        "colab": {
          "base_uri": "https://localhost:8080/",
          "height": 51
        }
      },
      "source": [
        "%%time\n",
        "for k in range(100):\n",
        "  a=torch.randn([100,100])\n",
        "  b=torch.randn([100,100])\n",
        "  c=torch.matmul(a,b)"
      ],
      "execution_count": 0,
      "outputs": [
        {
          "output_type": "stream",
          "text": [
            "CPU times: user 44.7 ms, sys: 52.8 ms, total: 97.6 ms\n",
            "Wall time: 67.2 ms\n"
          ],
          "name": "stdout"
        }
      ]
    },
    {
      "cell_type": "markdown",
      "metadata": {
        "id": "kAfJzw8mnDF_",
        "colab_type": "text"
      },
      "source": [
        "#Cuda support"
      ]
    },
    {
      "cell_type": "code",
      "metadata": {
        "id": "blMCpvN0mf8m",
        "colab_type": "code",
        "outputId": "41d60f9e-e371-49c3-e058-31447c21bdb4",
        "colab": {
          "base_uri": "https://localhost:8080/",
          "height": 34
        }
      },
      "source": [
        "print(torch.cuda.device_count())"
      ],
      "execution_count": 0,
      "outputs": [
        {
          "output_type": "stream",
          "text": [
            "1\n"
          ],
          "name": "stdout"
        }
      ]
    },
    {
      "cell_type": "code",
      "metadata": {
        "id": "sQiSF3GcnKyW",
        "colab_type": "code",
        "outputId": "c59da559-93ac-4c0f-f3fc-675da44a54d7",
        "colab": {
          "base_uri": "https://localhost:8080/",
          "height": 51
        }
      },
      "source": [
        "print(torch.cuda.device(0))\n",
        "print(torch.cuda.get_device_name(0))"
      ],
      "execution_count": 0,
      "outputs": [
        {
          "output_type": "stream",
          "text": [
            "<torch.cuda.device object at 0x7ff12ee486a0>\n",
            "Tesla T4\n"
          ],
          "name": "stdout"
        }
      ]
    },
    {
      "cell_type": "code",
      "metadata": {
        "id": "liQIDTd8o6hu",
        "colab_type": "code",
        "colab": {}
      },
      "source": [
        "cuda0=torch.device(\"cuda:0\")"
      ],
      "execution_count": 0,
      "outputs": []
    },
    {
      "cell_type": "code",
      "metadata": {
        "id": "Z507Z1l_pHPZ",
        "colab_type": "code",
        "outputId": "6b8170d1-6124-4ad9-eea8-cb61ee53acba",
        "colab": {
          "base_uri": "https://localhost:8080/",
          "height": 68
        }
      },
      "source": [
        "a=torch.ones(3,2,device=cuda0)\n",
        "b=torch.ones(3,2,device=cuda0)\n",
        "c=a+b\n",
        "print(c)"
      ],
      "execution_count": 0,
      "outputs": [
        {
          "output_type": "stream",
          "text": [
            "tensor([[2., 2.],\n",
            "        [2., 2.],\n",
            "        [2., 2.]], device='cuda:0')\n"
          ],
          "name": "stdout"
        }
      ]
    },
    {
      "cell_type": "code",
      "metadata": {
        "id": "w48epoujpWbW",
        "colab_type": "code",
        "outputId": "dfdb4995-5144-4755-8a38-9566fc63306d",
        "colab": {
          "base_uri": "https://localhost:8080/",
          "height": 51
        }
      },
      "source": [
        "%%time\n",
        "for i in range(10):\n",
        "  a = np.random.randn(10000,10000)\n",
        "  b = np.random.randn(10000,10000)\n",
        "  np.add(b, a)"
      ],
      "execution_count": 0,
      "outputs": [
        {
          "output_type": "stream",
          "text": [
            "CPU times: user 1min 26s, sys: 1.52 s, total: 1min 28s\n",
            "Wall time: 1min 28s\n"
          ],
          "name": "stdout"
        }
      ]
    },
    {
      "cell_type": "code",
      "metadata": {
        "id": "dEoTb7T8pvL7",
        "colab_type": "code",
        "outputId": "321ee247-da70-4347-a182-db90c11e88bb",
        "colab": {
          "base_uri": "https://localhost:8080/",
          "height": 51
        }
      },
      "source": [
        "%%time\n",
        "for i in range(10):\n",
        "  a_cpu = torch.randn([10000, 10000])\n",
        "  b_cpu = torch.randn([10000, 10000])\n",
        "  b_cpu.add_(a_cpu)"
      ],
      "execution_count": 0,
      "outputs": [
        {
          "output_type": "stream",
          "text": [
            "CPU times: user 18.6 s, sys: 298 ms, total: 18.9 s\n",
            "Wall time: 18.9 s\n"
          ],
          "name": "stdout"
        }
      ]
    },
    {
      "cell_type": "code",
      "metadata": {
        "id": "UxLQY3tap_kd",
        "colab_type": "code",
        "outputId": "9c9fd531-c960-4461-dd17-aa2903451119",
        "colab": {
          "base_uri": "https://localhost:8080/",
          "height": 51
        }
      },
      "source": [
        "%%time\n",
        "for i in range(10):\n",
        "  a = torch.randn([10000, 10000], device=cuda0)\n",
        "  b = torch.randn([10000, 10000], device=cuda0)\n",
        "  b.add_(a)"
      ],
      "execution_count": 0,
      "outputs": [
        {
          "output_type": "stream",
          "text": [
            "CPU times: user 2.86 ms, sys: 13.9 ms, total: 16.7 ms\n",
            "Wall time: 22.1 ms\n"
          ],
          "name": "stdout"
        }
      ]
    },
    {
      "cell_type": "markdown",
      "metadata": {
        "id": "_Qofe28WUefs",
        "colab_type": "text"
      },
      "source": [
        "#Autodiff"
      ]
    },
    {
      "cell_type": "code",
      "metadata": {
        "id": "aZ5PpuFQP61z",
        "colab_type": "code",
        "colab": {}
      },
      "source": [
        "x=torch.ones([3,2],requires_grad=True)"
      ],
      "execution_count": 0,
      "outputs": []
    },
    {
      "cell_type": "code",
      "metadata": {
        "id": "ULSRNkQuUtW3",
        "colab_type": "code",
        "outputId": "5b49344a-ea8b-453f-98ff-2303515b3865",
        "colab": {
          "base_uri": "https://localhost:8080/",
          "height": 68
        }
      },
      "source": [
        "y=x+5\n",
        "print(y)"
      ],
      "execution_count": 0,
      "outputs": [
        {
          "output_type": "stream",
          "text": [
            "tensor([[6., 6.],\n",
            "        [6., 6.],\n",
            "        [6., 6.]], grad_fn=<AddBackward0>)\n"
          ],
          "name": "stdout"
        }
      ]
    },
    {
      "cell_type": "code",
      "metadata": {
        "id": "ncvASCsUU2OZ",
        "colab_type": "code",
        "outputId": "3668ca8b-2d46-4bab-f97e-199562c5b346",
        "colab": {
          "base_uri": "https://localhost:8080/",
          "height": 68
        }
      },
      "source": [
        "z=y*y+1\n",
        "print(z)"
      ],
      "execution_count": 0,
      "outputs": [
        {
          "output_type": "stream",
          "text": [
            "tensor([[37., 37.],\n",
            "        [37., 37.],\n",
            "        [37., 37.]], grad_fn=<AddBackward0>)\n"
          ],
          "name": "stdout"
        }
      ]
    },
    {
      "cell_type": "code",
      "metadata": {
        "id": "_ZOyqGPfU7Cd",
        "colab_type": "code",
        "outputId": "a636d1f2-3e02-4bb3-fc4c-cbbe16b5d8b4",
        "colab": {
          "base_uri": "https://localhost:8080/",
          "height": 34
        }
      },
      "source": [
        "t=torch.sum(z)\n",
        "print(t)"
      ],
      "execution_count": 0,
      "outputs": [
        {
          "output_type": "stream",
          "text": [
            "tensor(222., grad_fn=<SumBackward0>)\n"
          ],
          "name": "stdout"
        }
      ]
    },
    {
      "cell_type": "code",
      "metadata": {
        "id": "6H8JPCjkU_48",
        "colab_type": "code",
        "colab": {}
      },
      "source": [
        "t.backward()"
      ],
      "execution_count": 0,
      "outputs": []
    },
    {
      "cell_type": "code",
      "metadata": {
        "id": "fpuw90M6VIfB",
        "colab_type": "code",
        "outputId": "1d1e0484-bfd3-44b3-bea3-1740f8dde7b6",
        "colab": {
          "base_uri": "https://localhost:8080/",
          "height": 68
        }
      },
      "source": [
        "print(x.grad)"
      ],
      "execution_count": 0,
      "outputs": [
        {
          "output_type": "stream",
          "text": [
            "tensor([[12., 12.],\n",
            "        [12., 12.],\n",
            "        [12., 12.]])\n"
          ],
          "name": "stdout"
        }
      ]
    },
    {
      "cell_type": "code",
      "metadata": {
        "id": "ghZtPp6lVLil",
        "colab_type": "code",
        "outputId": "e8489ed9-39d3-4a12-96b8-4322952217db",
        "colab": {
          "base_uri": "https://localhost:8080/",
          "height": 34
        }
      },
      "source": [
        "print(y.grad)"
      ],
      "execution_count": 0,
      "outputs": [
        {
          "output_type": "stream",
          "text": [
            "None\n"
          ],
          "name": "stdout"
        }
      ]
    },
    {
      "cell_type": "code",
      "metadata": {
        "id": "80FB9MPaVNgF",
        "colab_type": "code",
        "outputId": "c6ac24a7-d274-4d83-a688-72d5bbf5a292",
        "colab": {
          "base_uri": "https://localhost:8080/",
          "height": 119
        }
      },
      "source": [
        "x=torch.ones([3,2],requires_grad=True)\n",
        "y=x+5\n",
        "r=1/(1+torch.exp(-y))\n",
        "print(r)\n",
        "s=torch.sum(r)\n",
        "s.backward()\n",
        "print(x.grad)"
      ],
      "execution_count": 0,
      "outputs": [
        {
          "output_type": "stream",
          "text": [
            "tensor([[0.9975, 0.9975],\n",
            "        [0.9975, 0.9975],\n",
            "        [0.9975, 0.9975]], grad_fn=<MulBackward0>)\n",
            "tensor([[0.0025, 0.0025],\n",
            "        [0.0025, 0.0025],\n",
            "        [0.0025, 0.0025]])\n"
          ],
          "name": "stdout"
        }
      ]
    },
    {
      "cell_type": "code",
      "metadata": {
        "id": "o_8LcORYRe2v",
        "colab_type": "code",
        "outputId": "86332621-e081-4f16-80de-c4a1ddc23c60",
        "colab": {
          "base_uri": "https://localhost:8080/",
          "height": 119
        }
      },
      "source": [
        "x=torch.ones([3,2],requires_grad=True)\n",
        "y=x+5\n",
        "r=1/(1+torch.exp(-y))\n",
        "print(r)\n",
        "a=torch.ones([3,2])\n",
        "r.backward(a)\n",
        "print(x.grad)"
      ],
      "execution_count": 0,
      "outputs": [
        {
          "output_type": "stream",
          "text": [
            "tensor([[0.9975, 0.9975],\n",
            "        [0.9975, 0.9975],\n",
            "        [0.9975, 0.9975]], grad_fn=<MulBackward0>)\n",
            "tensor([[0.0025, 0.0025],\n",
            "        [0.0025, 0.0025],\n",
            "        [0.0025, 0.0025]])\n"
          ],
          "name": "stdout"
        }
      ]
    },
    {
      "cell_type": "markdown",
      "metadata": {
        "id": "cJOmdIAMpsWe",
        "colab_type": "text"
      },
      "source": [
        "#Using pytorch in a neural network"
      ]
    },
    {
      "cell_type": "code",
      "metadata": {
        "id": "0UxlMXDxTL3x",
        "colab_type": "code",
        "colab": {}
      },
      "source": [
        "x=torch.randn([20,1],requires_grad=True)\n",
        "y=3*x+5"
      ],
      "execution_count": 0,
      "outputs": []
    },
    {
      "cell_type": "code",
      "metadata": {
        "id": "NRSUKvxMp9Zl",
        "colab_type": "code",
        "colab": {}
      },
      "source": [
        "w=torch.tensor([1.],requires_grad=True)\n",
        "b=torch.tensor([1.],requires_grad=True)\n",
        "y_hat=w*x+b\n",
        "loss=torch.sum((y_hat-y)**2)"
      ],
      "execution_count": 0,
      "outputs": []
    },
    {
      "cell_type": "code",
      "metadata": {
        "id": "bNrkgGuiqc1U",
        "colab_type": "code",
        "outputId": "e2922ea3-1fe5-4246-ac8e-9b61dcdd101b",
        "colab": {
          "base_uri": "https://localhost:8080/",
          "height": 34
        }
      },
      "source": [
        "loss"
      ],
      "execution_count": 0,
      "outputs": [
        {
          "output_type": "execute_result",
          "data": {
            "text/plain": [
              "tensor(403.3911, grad_fn=<SumBackward0>)"
            ]
          },
          "metadata": {
            "tags": []
          },
          "execution_count": 42
        }
      ]
    },
    {
      "cell_type": "code",
      "metadata": {
        "id": "2rcV5SfGqiF1",
        "colab_type": "code",
        "colab": {}
      },
      "source": [
        "loss.backward()"
      ],
      "execution_count": 0,
      "outputs": []
    },
    {
      "cell_type": "code",
      "metadata": {
        "id": "Pr_Km1hHqk8k",
        "colab_type": "code",
        "outputId": "896b9912-be5f-4702-c9fb-86d1d8d8f1a9",
        "colab": {
          "base_uri": "https://localhost:8080/",
          "height": 34
        }
      },
      "source": [
        "print(w.grad,b.grad)"
      ],
      "execution_count": 0,
      "outputs": [
        {
          "output_type": "stream",
          "text": [
            "tensor([-73.4137]) tensor([-164.9887])\n"
          ],
          "name": "stdout"
        }
      ]
    },
    {
      "cell_type": "code",
      "metadata": {
        "id": "gptBThjuqoWD",
        "colab_type": "code",
        "outputId": "6bef271c-fd49-4af8-fb27-5a884399cc8f",
        "colab": {
          "base_uri": "https://localhost:8080/",
          "height": 204
        }
      },
      "source": [
        "learning_rate = 0.01\n",
        "\n",
        "w = torch.tensor([1.], requires_grad=True)\n",
        "b = torch.tensor([1.], requires_grad=True)\n",
        "\n",
        "print(w.item(), b.item())\n",
        "\n",
        "for i in range(10):\n",
        "  \n",
        "  x = torch.randn([20, 1])\n",
        "  y = 3*x - 2\n",
        "  \n",
        "  y_hat = w*x + b\n",
        "  loss = torch.sum((y_hat - y)**2)\n",
        "  \n",
        "  loss.backward()\n",
        "  \n",
        "  with torch.no_grad():\n",
        "    w -= learning_rate * w.grad\n",
        "    b -= learning_rate * b.grad\n",
        "    \n",
        "    w.grad.zero_()\n",
        "    b.grad.zero_()\n",
        "\n",
        "  print(w.item(), b.item())"
      ],
      "execution_count": 0,
      "outputs": [
        {
          "output_type": "stream",
          "text": [
            "1.0 1.0\n",
            "1.6134581565856934 -0.17426347732543945\n",
            "1.8212313652038574 -0.9101713299751282\n",
            "2.0644943714141846 -1.3328189849853516\n",
            "2.4291484355926514 -1.532092809677124\n",
            "2.7663345336914062 -1.690643072128296\n",
            "2.8588006496429443 -1.8354038000106812\n",
            "2.9126131534576416 -1.8908089399337769\n",
            "2.938631772994995 -1.9322959184646606\n",
            "2.9510457515716553 -1.953632116317749\n",
            "2.962343215942383 -1.9672083854675293\n"
          ],
          "name": "stdout"
        }
      ]
    },
    {
      "cell_type": "code",
      "metadata": {
        "id": "Zv4rniyqrFoz",
        "colab_type": "code",
        "outputId": "9d232009-fd42-43d1-e546-e5c82845dd73",
        "colab": {
          "base_uri": "https://localhost:8080/",
          "height": 51
        }
      },
      "source": [
        "%%time\n",
        "learning_rate = 0.01\n",
        "N=10000\n",
        "epochs=200\n",
        "\n",
        "\n",
        "w = torch.randn([N], requires_grad=True,device=cuda0)\n",
        "b = torch.ones([1], requires_grad=True,device=cuda0)\n",
        "\n",
        "#print(w.item(), b.item())\n",
        "\n",
        "for i in range(10):\n",
        "  \n",
        "  x = torch.randn([N, 1],device=cuda0)\n",
        "  y = 3*x - 2\n",
        "  \n",
        "  y_hat = w*x + b\n",
        "  loss = torch.sum((y_hat - y)**2)\n",
        "  \n",
        "  loss.backward()\n",
        "  \n",
        "  with torch.no_grad():\n",
        "    w -= learning_rate * w.grad\n",
        "    b -= learning_rate * b.grad\n",
        "    \n",
        "    w.grad.zero_()\n",
        "    b.grad.zero_()\n",
        "\n",
        "  #print(w.item(), b.item())"
      ],
      "execution_count": 0,
      "outputs": [
        {
          "output_type": "stream",
          "text": [
            "CPU times: user 7.62 ms, sys: 4.04 ms, total: 11.7 ms\n",
            "Wall time: 16.9 ms\n"
          ],
          "name": "stdout"
        }
      ]
    },
    {
      "cell_type": "code",
      "metadata": {
        "id": "u4oq6EAgwT6X",
        "colab_type": "code",
        "colab": {}
      },
      "source": [
        ""
      ],
      "execution_count": 0,
      "outputs": []
    }
  ]
}